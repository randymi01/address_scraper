{
 "cells": [
  {
   "cell_type": "code",
   "execution_count": 61,
   "metadata": {},
   "outputs": [],
   "source": [
    "import pandas as pd\n",
    "import numpy as np\n",
    "import json\n",
    "from geopy.geocoders import Nominatim\n",
    "geolocator = Nominatim(user_agent=\"nrpgroup\")"
   ]
  },
  {
   "cell_type": "code",
   "execution_count": 77,
   "metadata": {},
   "outputs": [],
   "source": [
    "# reformat geojson file\n",
    "file_name = \"bexar-addresses-county.geojson\"\n",
    "city_name = \"San Antonio\"\n",
    "\n",
    "with open(f\"geojson/{file_name}\", 'r') as f:\n",
    "    file_lines = [''.join([x.strip(), ',', '\\n']) for x in f.readlines()]\n",
    "\n",
    "with open(f\"geojson/{file_name}-formatted.geojson\", 'w') as f:\n",
    "    file_lines[-1] = file_lines[-1][:-2]\n",
    "    f.write('[\\n')\n",
    "    f.writelines(file_lines)\n",
    "    f.write('\\n]')\n",
    "\n",
    "with open(f\"geojson/{file_name}-formatted.geojson\") as f:\n",
    "    data = json.load(f)\n",
    "\n",
    "street_numbers = [int(i['properties']['number']) for i in data]\n",
    "street_name = [i['properties']['street'] for i in data]\n",
    "postcode = [i['properties']['postcode'] for i in data]\n",
    "longitude = [i['geometry']['coordinates'][0] for i in data]\n",
    "latitude = [i['geometry']['coordinates'][1] for i in data]\n",
    "\n",
    "addresses = pd.DataFrame({'street_numbers': street_numbers, 'street_name': street_name, 'postcode': postcode, 'longitude': longitude, 'latitude': latitude})\n",
    "addresses[\"full_address\"] = addresses[\"street_numbers\"].map(str) + \" \" + addresses[\"street_name\"] + f\", {city_name}, TX \" + addresses[\"postcode\"]"
   ]
  },
  {
   "cell_type": "code",
   "execution_count": 78,
   "metadata": {},
   "outputs": [],
   "source": [
    "# address should be in the format of \"1234 Main St, San Antonio, TX 78201\"\n",
    "miles_per_degree_lat = 68.93939393939394\n",
    "miles_per_degree_lon = 54.5985401459854\n",
    "\n",
    "def get_closest_addresses(address: str, df: pd.DataFrame, max_radius = 5, max_results = 100):\n",
    "    location = geolocator.geocode(address)\n",
    "    try:\n",
    "        lat = location.latitude\n",
    "        lon = location.longitude\n",
    "    except AttributeError:\n",
    "        print(\"Error: Address not found.\")\n",
    "        return\n",
    "    \n",
    "    distance = np.sqrt(((df[\"latitude\"] - lat)*miles_per_degree_lat)**2 + ((df[\"longitude\"] - lon)*miles_per_degree_lon)**2)\n",
    "    distance.sort_values(inplace=True)\n",
    "    candidates = distance[distance <= max_radius]\n",
    "    \n",
    "    indicies = None\n",
    "    if len(candidates) > max_results:\n",
    "        indices = candidates[:max_results].index\n",
    "    else:\n",
    "        indices = candidates.index\n",
    "\n",
    "    df.loc[indices].to_csv(f\"results/closest_addresses_to_{address}.csv\", index=False)"
   ]
  },
  {
   "cell_type": "code",
   "execution_count": 79,
   "metadata": {},
   "outputs": [],
   "source": [
    "get_closest_addresses(\"1938 South Zarzamora St, San Antonio TX\", addresses)"
   ]
  }
 ],
 "metadata": {
  "kernelspec": {
   "display_name": "Python 3",
   "language": "python",
   "name": "python3"
  },
  "language_info": {
   "codemirror_mode": {
    "name": "ipython",
    "version": 3
   },
   "file_extension": ".py",
   "mimetype": "text/x-python",
   "name": "python",
   "nbconvert_exporter": "python",
   "pygments_lexer": "ipython3",
   "version": "3.9.10"
  },
  "orig_nbformat": 4,
  "vscode": {
   "interpreter": {
    "hash": "0c7a5dc1ed5eb1ebc9c55e9002049654a6e0590da23611e6f1159ddf762a5872"
   }
  }
 },
 "nbformat": 4,
 "nbformat_minor": 2
}
